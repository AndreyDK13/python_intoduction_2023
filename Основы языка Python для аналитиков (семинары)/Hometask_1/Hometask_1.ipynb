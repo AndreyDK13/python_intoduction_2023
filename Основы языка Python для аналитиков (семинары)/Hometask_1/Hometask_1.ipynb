{
  "nbformat": 4,
  "nbformat_minor": 0,
  "metadata": {
    "colab": {
      "provenance": []
    },
    "kernelspec": {
      "name": "python3",
      "display_name": "Python 3"
    },
    "language_info": {
      "name": "python"
    }
  },
  "cells": [
    {
      "cell_type": "markdown",
      "source": [
        "# HOMETASK  \n",
        "\n",
        "## Условие 2:\n",
        "\n",
        "На складе лежат разные фрукты в разном количестве.  \n",
        "Нужно написать функцию, которая на вход принимает любое количество названий фруктов и их количество, а возвращает общее количество фруктов на складе"
      ],
      "metadata": {
        "id": "JjMseUAyaFqc"
      }
    },
    {
      "cell_type": "code",
      "source": [
        "fruts = {'Apples' : 2, 'Oranges': 3, 'Peaches': 1}\n",
        "\n",
        "def summ (new_dict: dict):\n",
        "  total = sum(new_dict.values())\n",
        "  return total\n",
        "\n",
        "print (f\"Total is {summ(fruts)} kg\")"
      ],
      "metadata": {
        "colab": {
          "base_uri": "https://localhost:8080/"
        },
        "id": "aM5lBeruaO4B",
        "outputId": "909756ec-5595-4dad-b8d8-fd4f6a179335"
      },
      "execution_count": 8,
      "outputs": [
        {
          "output_type": "stream",
          "name": "stdout",
          "text": [
            "Total is 6 kg\n"
          ]
        }
      ]
    },
    {
      "cell_type": "markdown",
      "source": [
        "## Условие 3:\n",
        "Дан список с затратами на рекламу.  \n",
        "Но в данных есть ошибки, некоторые затраты имеют отрицательную величину.  \n",
        "Удалите такие значения из списка и посчитайте суммарные затраты  \n",
        "[100, 125, -90, 345, 655, -1, 0, 200]  \n",
        "Используйте list comprehensions"
      ],
      "metadata": {
        "id": "Sj5-tvfedIsK"
      }
    },
    {
      "cell_type": "code",
      "source": [
        "costs = [100, 125, -90, 345, 655, -1, 0, 200]\n",
        "def amt (new_list: list):\n",
        "  total = sum(x for x in new_list if x > 0)\n",
        "  return total\n",
        "print(f\"Total advertasing expences is {amt(costs)}\")\n",
        "\n",
        "# amt = 0\n",
        "# for i in range(len(costs)):\n",
        "#   if costs[i] > 0: amt += costs[i]\n",
        "# print(amt)\n"
      ],
      "metadata": {
        "colab": {
          "base_uri": "https://localhost:8080/"
        },
        "id": "BkKgti11f9tx",
        "outputId": "475b8e7c-fb4f-4673-d756-a952d2ba8439"
      },
      "execution_count": 117,
      "outputs": [
        {
          "output_type": "stream",
          "name": "stdout",
          "text": [
            "Total advertasing expences is 1425\n"
          ]
        }
      ]
    },
    {
      "cell_type": "markdown",
      "source": [
        "## Условие 4:  \n",
        "Даны два списка.  \n",
        "Дата покупки  \n",
        "['2021-09-14', '2021-12-15', '2021-09-08', '2021-12-05', '2021-10-09', '2021-09-30', '2021-12-22', '2021-11-29', '2021-12-24', '2021-11-26', '2021-10-27', '2021-12-18', '2021-11-09', '2021-11-23', '2021-09-27', '2021-10-02', '2021-12-27', '2021-09-20', '2021-12-13', '2021-11-01', '2021-11-09', '2021-12-06', '2021-12-08', '2021-10-09', '2021-10-31', '2021-09-30', '2021-11-09', '2021-12-13', '2021-10-26', '2021-12-09']\n",
        "Суммы покупок по датам  \n",
        "[1270, 8413, 9028, 3703, 5739, 4095, 295, 4944, 5723, 3701, 4471, 651, 7037, 4274, 6275, 4988, 6930, 2971, 6592, 2004, 2822, 519, 3406, 2732, 5015, 2008, 316, 6333, 5700, 2887]\n",
        "\n",
        "### 4.1 Найдите, какая выручка у компании в ноябре\n",
        "Используйте list comprehensions"
      ],
      "metadata": {
        "id": "TnXHOj3yipyB"
      }
    },
    {
      "cell_type": "code",
      "source": [
        "dates = ['2021-09-14', '2021-12-15', '2021-09-08', '2021-12-05', '2021-10-09', '2021-09-30', '2021-12-22', '2021-11-29', '2021-12-24', '2021-11-26', '2021-10-27', '2021-12-18', '2021-11-09', '2021-11-23', '2021-09-27', '2021-10-02', '2021-12-27', '2021-09-20', '2021-12-13', '2021-11-01', '2021-11-09', '2021-12-06', '2021-12-08', '2021-10-09', '2021-10-31', '2021-09-30', '2021-11-09', '2021-12-13', '2021-10-26', '2021-12-09']\n",
        "sales = [1270, 8413, 9028, 3703, 5739, 4095, 295, 4944, 5723, 3701, 4471, 651, 7037, 4274, 6275, 4988, 6930, 2971, 6592, 2004, 2822, 519, 3406, 2732, 5015, 2008, 316, 6333, 5700, 2887]\n",
        "\n",
        "def revenue_of_month(sales_list: list, dates_list: list, mnt: int):\n",
        "  sales_of_mnt = sum([int(sales_list[i]) for i in range (len(dates_list)) if int(dates_list[i][5:7]) == mnt])\n",
        "  return (sales_of_mnt)\n",
        "\n",
        "month = 11\n",
        "print (f\"Revenue of month number {month} = {revenue_of_month(sales, dates, month)}\")\n",
        "\n",
        "# month = 11\n",
        "# sales_of_mnt = sum([int(sales[i]) for i in range (len(dates)) if int(dates[i][5:7]) == month])\n",
        "# print (f\"Revenue of {month} month = {sales_of_mnt}\")"
      ],
      "metadata": {
        "colab": {
          "base_uri": "https://localhost:8080/"
        },
        "id": "dJDaJ9iIi1t5",
        "outputId": "c60cd014-2386-4e6b-a91d-b07a57d9bcfa"
      },
      "execution_count": 148,
      "outputs": [
        {
          "output_type": "stream",
          "name": "stdout",
          "text": [
            "Revenue of month number 11 = 25098\n"
          ]
        }
      ]
    },
    {
      "cell_type": "markdown",
      "source": [
        "### 4.2 Найдите выручку компании в зависимости от месяца\n",
        "Для этого напишите функцию, которая на вход принимает список с датами и список с выручкой, а на выходе словарь, где ключи - это месяцы, а значения - это выручка.\n",
        "Используйте аннотирование типов."
      ],
      "metadata": {
        "id": "-zA2stkRJsOW"
      }
    },
    {
      "cell_type": "code",
      "source": [
        "dates = ['2021-09-14', '2021-12-15', '2021-09-08', '2021-12-05', '2021-10-09', '2021-09-30', '2021-12-22', '2021-11-29', '2021-12-24', '2021-11-26', '2021-10-27', '2021-12-18', '2021-11-09', '2021-11-23', '2021-09-27', '2021-10-02', '2021-12-27', '2021-09-20', '2021-12-13', '2021-11-01', '2021-11-09', '2021-12-06', '2021-12-08', '2021-10-09', '2021-10-31', '2021-09-30', '2021-11-09', '2021-12-13', '2021-10-26', '2021-12-09']\n",
        "sales = [1270, 8413, 9028, 3703, 5739, 4095, 295, 4944, 5723, 3701, 4471, 651, 7037, 4274, 6275, 4988, 6930, 2971, 6592, 2004, 2822, 519, 3406, 2732, 5015, 2008, 316, 6333, 5700, 2887]\n",
        "\n",
        "def table_revenue (dates_list, sales_list):\n",
        "  month = list({dates_list[i][0:7] for i in range(len(dates_list))})\n",
        "  revenue = list()\n",
        "  for j in range(len(month)):\n",
        "    sales_of_mnt = sum([int(sales_list[i]) for i in range (len(dates_list)) if dates_list[i][0:7] == month[j]])\n",
        "    revenue.append(sales_of_mnt)\n",
        "  result = {month[i]: revenue [i] for i in range (len(month))}\n",
        "  return(result)\n",
        "\n",
        "print (table_revenue(dates, sales))"
      ],
      "metadata": {
        "colab": {
          "base_uri": "https://localhost:8080/"
        },
        "id": "UyU30ZcPJ0VW",
        "outputId": "abbe3005-ec73-4188-a609-d766b69570b3"
      },
      "execution_count": 245,
      "outputs": [
        {
          "output_type": "stream",
          "name": "stdout",
          "text": [
            "{'2021-09': 25647, '2021-12': 45452, '2021-11': 25098, '2021-10': 28645}\n"
          ]
        }
      ]
    }
  ]
}